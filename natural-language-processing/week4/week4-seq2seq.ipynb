{
 "cells": [
  {
   "cell_type": "markdown",
   "metadata": {},
   "source": [
    "# Learn to calculate with seq2seq model\n",
    "\n",
    "In this assignment, you will learn how to use neural networks to solve sequence-to-sequence prediction tasks. Seq2Seq models are very popular these days because they achieve great results in Machine Translation, Text Summarization, Conversational Modeling and more.\n",
    "\n",
    "Using sequence-to-sequence modeling you are going to build a calculator for evaluating arithmetic expressions, by taking an equation as an input to the neural network and producing an answer as it's output.\n",
    "\n",
    "The resulting solution for this problem will be based on state-of-the-art approaches for sequence-to-sequence learning and you should be able to easily adapt it to solve other tasks. However, if you want to train your own machine translation system or intellectual chat bot, it would be useful to have access to compute resources like GPU, and be patient, because training of such systems is usually time consuming. \n",
    "\n",
    "### Libraries\n",
    "\n",
    "For this task you will need the following libraries:\n",
    " - [TensorFlow](https://www.tensorflow.org) — an open-source software library for Machine Intelligence.\n",
    " - [scikit-learn](http://scikit-learn.org/stable/index.html) — a tool for data mining and data analysis.\n",
    " \n",
    "If you have never worked with TensorFlow, you will probably want to read some tutorials during your work on this assignment, e.g. [Neural Machine Translation](https://www.tensorflow.org/tutorials/seq2seq) tutorial deals with very similar task and can explain some concepts to you. "
   ]
  },
  {
   "cell_type": "markdown",
   "metadata": {},
   "source": [
    "### Data\n",
    "\n",
    "One benefit of this task is that you don't need to download any data — you will generate it on your own! We will use two operators (addition and subtraction) and work with positive integer numbers in some range. Here are examples of correct inputs and outputs:\n",
    "\n",
    "    Input: '1+2'\n",
    "    Output: '3'\n",
    "    \n",
    "    Input: '0-99'\n",
    "    Output: '-99'\n",
    "\n",
    "*Note, that there are no spaces between operators and operands.*\n",
    "\n",
    "\n",
    "Now you need to implement the function *generate_equations*, which will be used to generate the data."
   ]
  },
  {
   "cell_type": "code",
   "execution_count": 1,
   "metadata": {},
   "outputs": [],
   "source": [
    "import random"
   ]
  },
  {
   "cell_type": "code",
   "execution_count": 2,
   "metadata": {},
   "outputs": [],
   "source": [
    "def generate_equations(allowed_operators, dataset_size, min_value, max_value):\n",
    "    \"\"\"Generates pairs of equations and solutions to them.\n",
    "    \n",
    "       Each equation has a form of two integers with an operator in between.\n",
    "       Each solution is an integer with the result of the operaion.\n",
    "    \n",
    "        allowed_operators: list of strings, allowed operators.\n",
    "        dataset_size: an integer, number of equations to be generated.\n",
    "        min_value: an integer, min value of each operand.\n",
    "        max_value: an integer, max value of each operand.\n",
    "\n",
    "        result: a list of tuples of strings (equation, solution).\n",
    "    \"\"\"\n",
    "    sample = []\n",
    "    for _ in range(dataset_size):\n",
    "        ######################################\n",
    "        ######### YOUR CODE HERE #############\n",
    "        ######################################\n",
    "        x = random.randint(min_value, max_value)\n",
    "        y = random.randint(min_value, max_value)\n",
    "        op_index = random.randint(0, len(allowed_operators))\n",
    "        op = allowed_operators[op_index - 1]\n",
    "        result = None\n",
    "        if op == '+':\n",
    "            result = x + y\n",
    "        elif op == '-':\n",
    "            result = x - y\n",
    "        sample.append((str(x) + op + str(y), str(result)))\n",
    "        \n",
    "    return sample"
   ]
  },
  {
   "cell_type": "markdown",
   "metadata": {},
   "source": [
    "To check the correctness of your implementation, use *test_generate_equations* function:"
   ]
  },
  {
   "cell_type": "code",
   "execution_count": 3,
   "metadata": {},
   "outputs": [],
   "source": [
    "def test_generate_equations():\n",
    "    allowed_operators = ['+', '-']\n",
    "    dataset_size = 10\n",
    "    for (input_, output_) in generate_equations(allowed_operators, dataset_size, 0, 100):\n",
    "        if not (type(input_) is str and type(output_) is str):\n",
    "            return \"Both parts should be strings.\"\n",
    "        if eval(input_) != int(output_):\n",
    "            return \"The (equation: {!r}, solution: {!r}) pair is incorrect.\".format(input_, output_)\n",
    "    return \"Tests passed.\""
   ]
  },
  {
   "cell_type": "code",
   "execution_count": 4,
   "metadata": {},
   "outputs": [
    {
     "name": "stdout",
     "output_type": "stream",
     "text": [
      "Tests passed.\n"
     ]
    }
   ],
   "source": [
    "print(test_generate_equations())"
   ]
  },
  {
   "cell_type": "markdown",
   "metadata": {},
   "source": [
    "Finally, we are ready to generate the train and test data for the neural network:"
   ]
  },
  {
   "cell_type": "code",
   "execution_count": 5,
   "metadata": {},
   "outputs": [],
   "source": [
    "from sklearn.model_selection import train_test_split"
   ]
  },
  {
   "cell_type": "code",
   "execution_count": 6,
   "metadata": {},
   "outputs": [],
   "source": [
    "allowed_operators = ['+', '-']\n",
    "dataset_size = 100000\n",
    "data = generate_equations(allowed_operators, dataset_size, min_value=0, max_value=9999)\n",
    "\n",
    "train_set, test_set = train_test_split(data, test_size=0.2, random_state=42)"
   ]
  },
  {
   "cell_type": "markdown",
   "metadata": {},
   "source": [
    "## Prepare data for the neural network\n",
    "\n",
    "The next stage of data preparation is creating mappings of the characters to their indices in some vocabulary. Since in our task we already know which symbols will appear in the inputs and outputs, generating the vocabulary is a simple step.\n",
    "\n",
    "#### How to create dictionaries for other task\n",
    "\n",
    "First of all, you need to understand what is the basic unit of the sequence in your task. In our case, we operate on symbols and the basic unit is a symbol. The number of symbols is small, so we don't need to think about filtering/normalization steps. However, in other tasks, the basic unit is often a word, and in this case the mapping would be *word $\\to$ integer*. The number of words might be huge, so it would be reasonable to filter them, for example, by frequency and leave only the frequent ones. Other strategies that your should consider are: data normalization (lowercasing, tokenization, how to consider punctuation marks), separate vocabulary for input and for output (e.g. for machine translation), some specifics of the task."
   ]
  },
  {
   "cell_type": "code",
   "execution_count": 7,
   "metadata": {},
   "outputs": [],
   "source": [
    "word2id = {symbol:i for i, symbol in enumerate('#^$+-1234567890')}\n",
    "id2word = {i:symbol for symbol, i in word2id.items()}"
   ]
  },
  {
   "cell_type": "markdown",
   "metadata": {},
   "source": [
    "#### Special symbols"
   ]
  },
  {
   "cell_type": "code",
   "execution_count": 8,
   "metadata": {},
   "outputs": [],
   "source": [
    "start_symbol = '^'\n",
    "end_symbol = '$'\n",
    "padding_symbol = '#'"
   ]
  },
  {
   "cell_type": "markdown",
   "metadata": {},
   "source": [
    "You could notice that we have added 3 special symbols: '^', '\\$' and '#':\n",
    "- '^' symbol will be passed to the network to indicate the beginning of the decoding procedure. We will discuss this one later in more details.\n",
    "- '\\$' symbol will be used to indicate the *end of a string*, both for input and output sequences. \n",
    "- '#' symbol will be used as a *padding* character to make lengths of all strings equal within one training batch.\n",
    "\n",
    "People have a bit different habits when it comes to special symbols in encoder-decoder networks, so don't get too much confused if you come across other variants in tutorials you read. "
   ]
  },
  {
   "cell_type": "markdown",
   "metadata": {},
   "source": [
    "#### Padding"
   ]
  },
  {
   "cell_type": "markdown",
   "metadata": {},
   "source": [
    "When vocabularies are ready, we need to be able to convert a sentence to a list of vocabulary word indices and back. At the same time, let's care about padding. We are going to preprocess each sequence from the input (and output ground truth) in such a way that:\n",
    "- it has a predefined length *padded_len*\n",
    "- it is probably cut off or padded with the *padding symbol* '#'\n",
    "- it *always* ends with the *end symbol* '$'\n",
    "\n",
    "We will treat the original characters of the sequence **and the end symbol** as the valid part of the input. We will store *the actual length* of the sequence, which includes the end symbol, but does not include the padding symbols. "
   ]
  },
  {
   "cell_type": "markdown",
   "metadata": {},
   "source": [
    " Now you need to implement the function *sentence_to_ids* that does the described job. "
   ]
  },
  {
   "cell_type": "code",
   "execution_count": 9,
   "metadata": {},
   "outputs": [],
   "source": [
    "def sentence_to_ids(sentence, word2id, padded_len):\n",
    "    \"\"\" Converts a sequence of symbols to a padded sequence of their ids.\n",
    "    \n",
    "      sentence: a string, input/output sequence of symbols.\n",
    "      word2id: a dict, a mapping from original symbols to ids.\n",
    "      padded_len: an integer, a desirable length of the sequence.\n",
    "\n",
    "      result: a tuple of (a list of ids, an actual length of sentence).\n",
    "    \"\"\"\n",
    "    sent_len = len(sentence)\n",
    "    sentence = sentence[0:max(sent_len, padded_len) - 1]\n",
    "    sentence += end_symbol\n",
    "    sent_ids = [word2id[w] for w in sentence]\n",
    "    \n",
    "    sent_len = len(sentence)\n",
    "    for _ in range(padded_len - sent_len):\n",
    "        sent_ids.append(word2id[padding_symbol])\n",
    "    \n",
    "    return sent_ids, sent_len"
   ]
  },
  {
   "cell_type": "markdown",
   "metadata": {},
   "source": [
    "Check that your implementation is correct:"
   ]
  },
  {
   "cell_type": "code",
   "execution_count": 10,
   "metadata": {},
   "outputs": [],
   "source": [
    "def test_sentence_to_ids():\n",
    "    sentences = [(\"123+123\", 7), (\"123+123\", 8), (\"123+123\", 10)]\n",
    "    expected_output = [([5, 6, 7, 3, 5, 6, 2], 7), \n",
    "                       ([5, 6, 7, 3, 5, 6, 7, 2], 8), \n",
    "                       ([5, 6, 7, 3, 5, 6, 7, 2, 0, 0], 8)] \n",
    "    for (sentence, padded_len), (sentence_ids, expected_length) in zip(sentences, expected_output):\n",
    "        output, length = sentence_to_ids(sentence, word2id, padded_len)\n",
    "        if output != sentence_ids:\n",
    "            return(\"Convertion of '{}' for padded_len={} to {} is incorrect.\".format(\n",
    "                sentence, padded_len, output))\n",
    "        if length != expected_length:\n",
    "            return(\"Convertion of '{}' for padded_len={} has incorrect actual length {}.\".format(\n",
    "                sentence, padded_len, length))\n",
    "    return(\"Tests passed.\")"
   ]
  },
  {
   "cell_type": "code",
   "execution_count": 11,
   "metadata": {},
   "outputs": [
    {
     "name": "stdout",
     "output_type": "stream",
     "text": [
      "Tests passed.\n"
     ]
    }
   ],
   "source": [
    "print(test_sentence_to_ids())"
   ]
  },
  {
   "cell_type": "markdown",
   "metadata": {},
   "source": [
    "We also need to be able to get back from indices to symbols:"
   ]
  },
  {
   "cell_type": "code",
   "execution_count": 12,
   "metadata": {},
   "outputs": [],
   "source": [
    "def ids_to_sentence(ids, id2word):\n",
    "    \"\"\" Converts a sequence of ids to a sequence of symbols.\n",
    "    \n",
    "          ids: a list, indices for the padded sequence.\n",
    "          id2word:  a dict, a mapping from ids to original symbols.\n",
    "\n",
    "          result: a list of symbols.\n",
    "    \"\"\"\n",
    " \n",
    "    return [id2word[i] for i in ids] "
   ]
  },
  {
   "cell_type": "markdown",
   "metadata": {},
   "source": [
    "#### Generating batches"
   ]
  },
  {
   "cell_type": "markdown",
   "metadata": {},
   "source": [
    "The final step of data preparation is a function that transforms a batch of sentences to a list of lists of indices. "
   ]
  },
  {
   "cell_type": "code",
   "execution_count": 13,
   "metadata": {},
   "outputs": [],
   "source": [
    "def batch_to_ids(sentences, word2id, max_len):\n",
    "    \"\"\"Prepares batches of indices. \n",
    "    \n",
    "       Sequences are padded to match the longest sequence in the batch,\n",
    "       if it's longer than max_len, then max_len is used instead.\n",
    "\n",
    "        sentences: a list of strings, original sequences.\n",
    "        word2id: a dict, a mapping from original symbols to ids.\n",
    "        max_len: an integer, max len of sequences allowed.\n",
    "\n",
    "        result: a list of lists of ids, a list of actual lengths.\n",
    "    \"\"\"\n",
    "    \n",
    "    max_len_in_batch = min(max(len(s) for s in sentences) + 1, max_len)\n",
    "    batch_ids, batch_ids_len = [], []\n",
    "    for sentence in sentences:\n",
    "        ids, ids_len = sentence_to_ids(sentence, word2id, max_len_in_batch)\n",
    "        batch_ids.append(ids)\n",
    "        batch_ids_len.append(ids_len)\n",
    "    return batch_ids, batch_ids_len"
   ]
  },
  {
   "cell_type": "markdown",
   "metadata": {},
   "source": [
    "The function *generate_batches* will help to generate batches with defined size from given samples."
   ]
  },
  {
   "cell_type": "code",
   "execution_count": 14,
   "metadata": {},
   "outputs": [],
   "source": [
    "def generate_batches(samples, batch_size=64):\n",
    "    X, Y = [], []\n",
    "    for i, (x, y) in enumerate(samples, 1):\n",
    "        X.append(x)\n",
    "        Y.append(y)\n",
    "        if i % batch_size == 0:\n",
    "            yield X, Y\n",
    "            X, Y = [], []\n",
    "    if X and Y:\n",
    "        yield X, Y"
   ]
  },
  {
   "cell_type": "markdown",
   "metadata": {},
   "source": [
    "To illustrate the result of the implemented functions, run the following cell:"
   ]
  },
  {
   "cell_type": "code",
   "execution_count": 15,
   "metadata": {},
   "outputs": [
    {
     "name": "stdout",
     "output_type": "stream",
     "text": [
      "Input: ('2289-4728', '-2439')\n",
      "Ids: [[6, 6, 12, 13, 4, 8, 11, 6, 12, 2], [4, 6, 8, 7, 13, 2, 0, 0, 0, 0]]\n",
      "Sentences lengths: [10, 6]\n"
     ]
    }
   ],
   "source": [
    "sentences = train_set[0]\n",
    "ids, sent_lens = batch_to_ids(sentences, word2id, max_len=10)\n",
    "print('Input:', sentences)\n",
    "print('Ids: {}\\nSentences lengths: {}'.format(ids, sent_lens))"
   ]
  },
  {
   "cell_type": "markdown",
   "metadata": {},
   "source": [
    "## Encoder-Decoder architecture\n",
    "\n",
    "Encoder-Decoder is a successful architecture for Seq2Seq tasks with different lengths of input and output sequences. The main idea is to use two recurrent neural networks, where the first neural network *encodes* the input sequence into a real-valued vector and then the second neural network *decodes* this vector into the output sequence. While building the neural network, we will specify some particular characteristics of this architecture."
   ]
  },
  {
   "cell_type": "code",
   "execution_count": 16,
   "metadata": {},
   "outputs": [],
   "source": [
    "import tensorflow as tf"
   ]
  },
  {
   "cell_type": "markdown",
   "metadata": {},
   "source": [
    "Let us use TensorFlow building blocks to specify the network architecture."
   ]
  },
  {
   "cell_type": "code",
   "execution_count": 17,
   "metadata": {},
   "outputs": [],
   "source": [
    "class Seq2SeqModel(object):\n",
    "    pass"
   ]
  },
  {
   "cell_type": "markdown",
   "metadata": {},
   "source": [
    "First, we need to create [placeholders](https://www.tensorflow.org/api_guides/python/io_ops#Placeholders) to specify what data we are going to feed into the network during the execution time. For this task we will need:\n",
    " - *input_batch* — sequences of sentences (the shape will equal to [batch_size, max_sequence_len_in_batch]);\n",
    " - *input_batch_lengths* — lengths of not padded sequences (the shape equals to [batch_size]);\n",
    " - *ground_truth* — sequences of groundtruth (the shape will equal to [batch_size, max_sequence_len_in_batch]);\n",
    " - *ground_truth_lengths* — lengths of not padded groundtruth sequences (the shape equals to [batch_size]);\n",
    " - *dropout_ph* — dropout keep probability; this placeholder has a predifined value 1;\n",
    " - *learning_rate_ph* — learning rate."
   ]
  },
  {
   "cell_type": "code",
   "execution_count": 49,
   "metadata": {},
   "outputs": [],
   "source": [
    "def declare_placeholders(self):\n",
    "    \"\"\"Specifies placeholders for the model.\"\"\"\n",
    "    \n",
    "    # Placeholders for input and its actual lengths.\n",
    "    self.input_batch = tf.placeholder(shape=(None, None), dtype=tf.int32, name='input_batch')\n",
    "    self.input_batch_lengths = tf.placeholder(shape=(None, ), dtype=tf.int32, name='input_batch_lengths')\n",
    "    \n",
    "    # Placeholders for groundtruth and its actual lengths.\n",
    "    self.ground_truth = tf.placeholder(shape=(None, None), dtype=tf.int32, name='ground_truth')\n",
    "    self.ground_truth_lengths = tf.placeholder(shape=(None, ), dtype=tf.int32, name='ground_truth_lengths')\n",
    "        \n",
    "    self.dropout_ph = tf.placeholder_with_default(tf.cast(1.0, tf.float32), shape=[])\n",
    "    self.learning_rate_ph = tf.placeholder(dtype=tf.float32, shape=[])"
   ]
  },
  {
   "cell_type": "code",
   "execution_count": 50,
   "metadata": {},
   "outputs": [],
   "source": [
    "Seq2SeqModel.__declare_placeholders = classmethod(declare_placeholders)"
   ]
  },
  {
   "cell_type": "markdown",
   "metadata": {},
   "source": [
    "Now, let us specify the layers of the neural network. First, we need to prepare an embedding matrix. Since we use the same vocabulary for input and output, we need only one such matrix. For tasks with different vocabularies there would be multiple embedding layers.\n",
    "- Create embeddings matrix with [tf.Variable](https://www.tensorflow.org/api_docs/python/tf/Variable). Specify its name, type (tf.float32), and initialize with random values.\n",
    "- Perform [embeddings lookup](https://www.tensorflow.org/api_docs/python/tf/nn/embedding_lookup) for a given input batch."
   ]
  },
  {
   "cell_type": "code",
   "execution_count": 51,
   "metadata": {},
   "outputs": [],
   "source": [
    "def create_embeddings(self, vocab_size, embeddings_size):\n",
    "    \"\"\"Specifies embeddings layer and embeds an input batch.\"\"\"\n",
    "     \n",
    "    random_initializer = tf.random_uniform((vocab_size, embeddings_size), -1.0, 1.0)\n",
    "    self.embeddings = tf.Variable(dtype=tf.float32, initial_value=random_initializer, name=\"embeddings\")    \n",
    "    # Perform embeddings lookup for self.input_batch. \n",
    "    self.input_batch_embedded = tf.nn.embedding_lookup(params=self.embeddings, ids=self.input_batch)"
   ]
  },
  {
   "cell_type": "code",
   "execution_count": 52,
   "metadata": {},
   "outputs": [],
   "source": [
    "Seq2SeqModel.__create_embeddings = classmethod(create_embeddings)"
   ]
  },
  {
   "cell_type": "markdown",
   "metadata": {},
   "source": [
    "#### Encoder\n",
    "\n",
    "The first RNN of the current architecture is called an *encoder* and serves for encoding an input sequence to a real-valued vector. Input of this RNN is an embedded input batch. Since sentences in the same batch could have different actual lengths, we also provide input lengths to avoid unnecessary computations. The final encoder state will be passed to the second RNN (decoder), which we will create soon. \n",
    "\n",
    "- TensorFlow provides a number of [RNN cells](https://www.tensorflow.org/api_guides/python/contrib.rnn#Core_RNN_Cells_for_use_with_TensorFlow_s_core_RNN_methods) ready for use. We suggest that you use [GRU cell](https://www.tensorflow.org/api_docs/python/tf/contrib/rnn/GRUCell), but you can also experiment with other types. \n",
    "- Wrap your cells with [DropoutWrapper](https://www.tensorflow.org/api_docs/python/tf/contrib/rnn/DropoutWrapper). Dropout is an important regularization technique for neural networks. Specify input keep probability using the dropout placeholder that we created before.\n",
    "- Combine the defined encoder cells with [Dynamic RNN](https://www.tensorflow.org/api_docs/python/tf/nn/dynamic_rnn). Use the embedded input batches and their lengths here.\n",
    "- Use *dtype=tf.float32* everywhere."
   ]
  },
  {
   "cell_type": "code",
   "execution_count": 53,
   "metadata": {},
   "outputs": [],
   "source": [
    "from tensorflow.nn.rnn_cell import GRUCell, DropoutWrapper\n",
    "\n",
    "def build_encoder(self, hidden_size):\n",
    "    \"\"\"Specifies encoder architecture and computes its output.\"\"\"\n",
    "    \n",
    "    # Create GRUCell with dropout.\n",
    "    encoder_cell = DropoutWrapper(GRUCell(num_units=hidden_size, dtype=tf.float32), input_keep_prob=self.dropout_ph, \n",
    "                                  dtype=tf.float32)\n",
    "    \n",
    "    # Create RNN with the predefined cell.\n",
    "    _, self.final_encoder_state = tf.nn.dynamic_rnn(encoder_cell, self.input_batch_embedded, \n",
    "                                                    sequence_length=self.input_batch_lengths, dtype=tf.float32)"
   ]
  },
  {
   "cell_type": "code",
   "execution_count": 54,
   "metadata": {},
   "outputs": [],
   "source": [
    "Seq2SeqModel.__build_encoder = classmethod(build_encoder)"
   ]
  },
  {
   "cell_type": "markdown",
   "metadata": {},
   "source": [
    "#### Decoder\n",
    "\n",
    "The second RNN is called a *decoder* and serves for generating the output sequence. In the simple seq2seq arcitecture, the input sequence is provided to the decoder only as the final state of the encoder. Obviously, it is a bottleneck and [Attention techniques](https://www.tensorflow.org/tutorials/seq2seq#background_on_the_attention_mechanism) can help to overcome it. So far, we do not need them to make our calculator work, but this would be a necessary ingredient for more advanced tasks. \n",
    "\n",
    "During training, decoder also uses information about the true output. It is feeded in as input symbol by symbol. However, during the prediction stage (which is called *inference* in this architecture), the decoder can only use its own generated output from the previous step to feed it in at the next step. Because of this difference (*training* vs *inference*), we will create two distinct instances, which will serve for the described scenarios.\n",
    "\n",
    "The picture below illustrates the point. It also shows our work with the special characters, e.g. look how the start symbol `^` is used. The transparent parts are ignored. In decoder, it is masked out in the loss computation. In encoder, the green state is considered as final and passed to the decoder. "
   ]
  },
  {
   "cell_type": "markdown",
   "metadata": {},
   "source": [
    "<img src=\"encoder-decoder-pic.png\" style=\"width: 500px;\">"
   ]
  },
  {
   "cell_type": "markdown",
   "metadata": {},
   "source": [
    "Now, it's time to implement the decoder:\n",
    " - First, we should create two [helpers](https://www.tensorflow.org/api_guides/python/contrib.seq2seq#Dynamic_Decoding). These classes help to determine the behaviour of the decoder. During the training time, we will use [TrainingHelper](https://www.tensorflow.org/api_docs/python/tf/contrib/seq2seq/TrainingHelper). For the inference we recommend to use [GreedyEmbeddingHelper](https://www.tensorflow.org/api_docs/python/tf/contrib/seq2seq/GreedyEmbeddingHelper).\n",
    " - To share all parameters during training and inference, we use one scope and set the flag 'reuse' to True at inference time. You might be interested to know more about how [variable scopes](https://www.tensorflow.org/programmers_guide/variables) work in TF. \n",
    " - To create the decoder itself, we will use [BasicDecoder](https://www.tensorflow.org/api_docs/python/tf/contrib/seq2seq/BasicDecoder) class. As previously, you should choose some RNN cell, e.g. GRU cell. To turn hidden states into logits, we will need a projection layer. One of the simple solutions is using [OutputProjectionWrapper](https://www.tensorflow.org/api_docs/python/tf/contrib/rnn/OutputProjectionWrapper).\n",
    " - For getting the predictions, it will be convinient to use [dynamic_decode](https://www.tensorflow.org/api_docs/python/tf/contrib/seq2seq/dynamic_decode). This function uses the provided decoder to perform decoding."
   ]
  },
  {
   "cell_type": "code",
   "execution_count": 55,
   "metadata": {},
   "outputs": [],
   "source": [
    "def build_decoder(self, hidden_size, vocab_size, max_iter, start_symbol_id, end_symbol_id):\n",
    "    \"\"\"Specifies decoder architecture and computes the output.\n",
    "    \n",
    "        Uses different helpers:\n",
    "          - for train: feeding ground truth\n",
    "          - for inference: feeding generated output\n",
    "\n",
    "        As a result, self.train_outputs and self.infer_outputs are created. \n",
    "        Each of them contains two fields:\n",
    "          rnn_output (predicted logits)\n",
    "          sample_id (predictions).\n",
    "\n",
    "    \"\"\"\n",
    "    \n",
    "    # Use start symbols as the decoder inputs at the first time step.\n",
    "    batch_size = tf.shape(self.input_batch)[0]\n",
    "    start_tokens = tf.fill([batch_size], start_symbol_id)\n",
    "    ground_truth_as_input = tf.concat([tf.expand_dims(start_tokens, 1), self.ground_truth], 1)\n",
    "    \n",
    "    # Use the embedding layer defined before to lookup embedings for ground_truth_as_input. \n",
    "    self.ground_truth_embedded = tf.nn.embedding_lookup(self.embeddings, ground_truth_as_input)\n",
    "     \n",
    "    # Create TrainingHelper for the train stage.\n",
    "    train_helper = tf.contrib.seq2seq.TrainingHelper(self.ground_truth_embedded, \n",
    "                                                     self.ground_truth_lengths)\n",
    "    \n",
    "    # Create GreedyEmbeddingHelper for the inference stage.\n",
    "    # You should provide the embedding layer, start_tokens and index of the end symbol.\n",
    "    infer_helper = tf.contrib.seq2seq.GreedyEmbeddingHelper(self.embeddings, start_tokens, end_symbol_id)\n",
    "    \n",
    "  \n",
    "    def decode(helper, scope, reuse=None):\n",
    "        \"\"\"Creates decoder and return the results of the decoding with a given helper.\"\"\"\n",
    "        \n",
    "        with tf.variable_scope(scope, reuse=reuse):\n",
    "            # Create GRUCell with dropout. Do not forget to set the reuse flag properly.\n",
    "            decoder_cell = DropoutWrapper(GRUCell(num_units=hidden_size, dtype=tf.float32, reuse=reuse), \n",
    "                                          input_keep_prob=self.dropout_ph, dtype=tf.float32)\n",
    "            \n",
    "            # Create a projection wrapper.\n",
    "            decoder_cell = tf.contrib.rnn.OutputProjectionWrapper(decoder_cell, vocab_size, reuse=reuse)\n",
    "            \n",
    "            # Create BasicDecoder, pass the defined cell, a helper, and initial state.\n",
    "            # The initial state should be equal to the final state of the encoder!\n",
    "            decoder = tf.contrib.seq2seq.BasicDecoder(decoder_cell, helper, self.final_encoder_state)\n",
    "            \n",
    "            # The first returning argument of dynamic_decode contains two fields:\n",
    "            #   rnn_output (predicted logits)\n",
    "            #   sample_id (predictions)\n",
    "            outputs, _, _ = tf.contrib.seq2seq.dynamic_decode(decoder=decoder, maximum_iterations=max_iter, \n",
    "                                                              output_time_major=False, impute_finished=True)\n",
    "\n",
    "            return outputs\n",
    "        \n",
    "    self.train_outputs = decode(train_helper, 'decode')\n",
    "    self.infer_outputs = decode(infer_helper, 'decode', reuse=True)"
   ]
  },
  {
   "cell_type": "code",
   "execution_count": 56,
   "metadata": {},
   "outputs": [],
   "source": [
    "Seq2SeqModel.__build_decoder = classmethod(build_decoder)"
   ]
  },
  {
   "cell_type": "markdown",
   "metadata": {},
   "source": [
    "In this task we will use [sequence_loss](https://www.tensorflow.org/api_docs/python/tf/contrib/seq2seq/sequence_loss), which is a weighted cross-entropy loss for a sequence of logits. Take a moment to understand, what is your train logits and targets. Also note, that we do not want to take into account loss terms coming from padding symbols, so we will mask them out using weights.  "
   ]
  },
  {
   "cell_type": "code",
   "execution_count": 57,
   "metadata": {},
   "outputs": [],
   "source": [
    "def compute_loss(self):\n",
    "    \"\"\"Computes sequence loss (masked cross-entopy loss with logits).\"\"\"\n",
    "    \n",
    "    weights = tf.cast(tf.sequence_mask(self.ground_truth_lengths), dtype=tf.float32)\n",
    "    \n",
    "    self.loss = tf.contrib.seq2seq.sequence_loss(self.train_outputs.rnn_output, self.ground_truth, weights)"
   ]
  },
  {
   "cell_type": "code",
   "execution_count": 58,
   "metadata": {},
   "outputs": [],
   "source": [
    "Seq2SeqModel.__compute_loss = classmethod(compute_loss)"
   ]
  },
  {
   "cell_type": "markdown",
   "metadata": {},
   "source": [
    "The last thing to specify is the optimization of the defined loss. \n",
    "We suggest that you use [optimize_loss](https://www.tensorflow.org/api_docs/python/tf/contrib/layers/optimize_loss) with Adam optimizer and a learning rate from the corresponding placeholder. You might also need to pass global step (e.g. as tf.train.get_global_step()) and clip gradients by 1.0."
   ]
  },
  {
   "cell_type": "code",
   "execution_count": 59,
   "metadata": {},
   "outputs": [],
   "source": [
    "def perform_optimization(self):\n",
    "    \"\"\"Specifies train_op that optimizes self.loss.\"\"\"\n",
    "    \n",
    "    self.train_op = tf.contrib.layers.optimize_loss(self.loss, tf.train.get_global_step(), self.learning_rate_ph, 'Adam', \n",
    "                                                    clip_gradients=1.0)"
   ]
  },
  {
   "cell_type": "code",
   "execution_count": 60,
   "metadata": {},
   "outputs": [],
   "source": [
    "Seq2SeqModel.__perform_optimization = classmethod(perform_optimization)"
   ]
  },
  {
   "cell_type": "markdown",
   "metadata": {},
   "source": [
    "Congratulations! You have specified all the parts of your network. You may have noticed, that we didn't deal with any real data yet, so what you have written is just recipies on how the network should function.\n",
    "Now we will put them to the constructor of our Seq2SeqModel class to use it in the next section. "
   ]
  },
  {
   "cell_type": "code",
   "execution_count": 61,
   "metadata": {},
   "outputs": [],
   "source": [
    "def init_model(self, vocab_size, embeddings_size, hidden_size, \n",
    "               max_iter, start_symbol_id, end_symbol_id, padding_symbol_id):\n",
    "    \n",
    "    self.__declare_placeholders()\n",
    "    self.__create_embeddings(vocab_size, embeddings_size)\n",
    "    self.__build_encoder(hidden_size)\n",
    "    self.__build_decoder(hidden_size, vocab_size, max_iter, start_symbol_id, end_symbol_id)\n",
    "    \n",
    "    # Compute loss and back-propagate.\n",
    "    self.__compute_loss()\n",
    "    self.__perform_optimization()\n",
    "    \n",
    "    # Get predictions for evaluation.\n",
    "    self.train_predictions = self.train_outputs.sample_id\n",
    "    self.infer_predictions = self.infer_outputs.sample_id"
   ]
  },
  {
   "cell_type": "code",
   "execution_count": 62,
   "metadata": {},
   "outputs": [],
   "source": [
    "Seq2SeqModel.__init__ = classmethod(init_model)"
   ]
  },
  {
   "cell_type": "markdown",
   "metadata": {},
   "source": [
    "## Train the network and predict output\n",
    "\n",
    "[Session.run](https://www.tensorflow.org/api_docs/python/tf/Session#run) is a point which initiates computations in the graph that we have defined. To train the network, we need to compute *self.train_op*. To predict output, we just need to compute *self.infer_predictions*. In any case, we need to feed actual data through the placeholders that we defined above. "
   ]
  },
  {
   "cell_type": "code",
   "execution_count": 63,
   "metadata": {},
   "outputs": [],
   "source": [
    "def train_on_batch(self, session, X, X_seq_len, Y, Y_seq_len, learning_rate, dropout_keep_probability):\n",
    "    feed_dict = {\n",
    "            self.input_batch: X,\n",
    "            self.input_batch_lengths: X_seq_len,\n",
    "            self.ground_truth: Y,\n",
    "            self.ground_truth_lengths: Y_seq_len,\n",
    "            self.learning_rate_ph: learning_rate,\n",
    "            self.dropout_ph: dropout_keep_probability\n",
    "        }\n",
    "    pred, loss, _ = session.run([\n",
    "            self.train_predictions,\n",
    "            self.loss,\n",
    "            self.train_op], feed_dict=feed_dict)\n",
    "    return pred, loss"
   ]
  },
  {
   "cell_type": "code",
   "execution_count": 64,
   "metadata": {},
   "outputs": [],
   "source": [
    "Seq2SeqModel.train_on_batch = classmethod(train_on_batch)"
   ]
  },
  {
   "cell_type": "markdown",
   "metadata": {},
   "source": [
    "We implemented two prediction functions: *predict_for_batch* and *predict_for_batch_with_loss*. The first one allows only to predict output for some input sequence, while the second one could compute loss because we provide also ground truth values. Both these functions might be useful since the first one could be used for predicting only, and the second one is helpful for validating results on not-training data during the training."
   ]
  },
  {
   "cell_type": "code",
   "execution_count": 65,
   "metadata": {},
   "outputs": [],
   "source": [
    "def predict_for_batch(self, session, X, X_seq_len):\n",
    "    feed_dict = {\n",
    "            self.input_batch: X,\n",
    "            self.input_batch_lengths: X_seq_len\n",
    "        }\n",
    "    pred = session.run([\n",
    "            self.infer_predictions\n",
    "        ], feed_dict=feed_dict)[0]\n",
    "    return pred\n",
    "\n",
    "def predict_for_batch_with_loss(self, session, X, X_seq_len, Y, Y_seq_len):\n",
    "    feed_dict = {\n",
    "            self.input_batch: X,\n",
    "            self.input_batch_lengths: X_seq_len,\n",
    "            self.ground_truth: Y,\n",
    "            self.ground_truth_lengths: Y_seq_len\n",
    "        }\n",
    "    pred, loss = session.run([\n",
    "            self.infer_predictions,\n",
    "            self.loss,\n",
    "        ], feed_dict=feed_dict)\n",
    "    return pred, loss"
   ]
  },
  {
   "cell_type": "code",
   "execution_count": 66,
   "metadata": {},
   "outputs": [],
   "source": [
    "Seq2SeqModel.predict_for_batch = classmethod(predict_for_batch)\n",
    "Seq2SeqModel.predict_for_batch_with_loss = classmethod(predict_for_batch_with_loss)"
   ]
  },
  {
   "cell_type": "markdown",
   "metadata": {},
   "source": [
    "## Run your experiment\n",
    "\n",
    "Create *Seq2SeqModel* model with the following parameters:\n",
    " - *vocab_size* — number of tokens;\n",
    " - *embeddings_size* — dimension of embeddings, recommended value: 20;\n",
    " - *max_iter* — maximum number of steps in decoder, recommended value: 7;\n",
    " - *hidden_size* — size of hidden layers for RNN, recommended value: 512;\n",
    " - *start_symbol_id* — an index of the start token (`^`).\n",
    " - *end_symbol_id* — an index of the end token (`$`).\n",
    " - *padding_symbol_id* — an index of the padding token (`#`).\n",
    "\n",
    "Set hyperparameters. You might want to start with the following values and see how it works:\n",
    "- *batch_size*: 128;\n",
    "- at least 10 epochs;\n",
    "- value of *learning_rate*: 0.001\n",
    "- *dropout_keep_probability* equals to 0.5 for training (typical values for dropout probability are ranging from 0.1 to 1.0); larger values correspond smaler number of dropout units;\n",
    "- *max_len*: 20."
   ]
  },
  {
   "cell_type": "code",
   "execution_count": 71,
   "metadata": {},
   "outputs": [],
   "source": [
    "tf.reset_default_graph()\n",
    "\n",
    "model = Seq2SeqModel(len(word2id), 20, 512, 7, word2id[start_symbol], word2id[end_symbol], word2id[padding_symbol])\n",
    "\n",
    "batch_size = 128\n",
    "#n_epochs = 10\n",
    "n_epochs = 20\n",
    "learning_rate = 0.001\n",
    "dropout_keep_probability = 0.5\n",
    "max_len = 20\n",
    "\n",
    "n_step = int(len(train_set) / batch_size)"
   ]
  },
  {
   "cell_type": "markdown",
   "metadata": {},
   "source": [
    "Finally, we are ready to run the training! A good indicator that everything works fine is decreasing loss during the training. You should account on the loss value equal to approximately 2.7 at the beginning of the training and near 1 after the 10th epoch."
   ]
  },
  {
   "cell_type": "code",
   "execution_count": 72,
   "metadata": {
    "scrolled": true
   },
   "outputs": [
    {
     "name": "stdout",
     "output_type": "stream",
     "text": [
      "Start training... \n",
      "\n",
      "Train: epoch 1\n",
      "Epoch: [1/20], step: [1/625], loss: 2.700502\n",
      "Epoch: [1/20], step: [201/625], loss: 1.838784\n",
      "Epoch: [1/20], step: [401/625], loss: 1.709321\n",
      "Epoch: [1/20], step: [601/625], loss: 1.604218\n",
      "Test: epoch 1 loss: 1.5655967\n",
      "X: 8129+1924$\n",
      "Y: 10053$\n",
      "O: 10011$\n",
      "\n",
      "X: 2462-1811$\n",
      "Y: 651$##\n",
      "O: 277$##\n",
      "\n",
      "X: 6635-6475$\n",
      "Y: 160$##\n",
      "O: 1162$#\n",
      "\n",
      "Train: epoch 2\n",
      "Epoch: [2/20], step: [1/625], loss: 1.593742\n",
      "Epoch: [2/20], step: [201/625], loss: 1.536822\n",
      "Epoch: [2/20], step: [401/625], loss: 1.497582\n",
      "Epoch: [2/20], step: [601/625], loss: 1.452633\n",
      "Test: epoch 2 loss: 1.453002\n",
      "X: 5177+4543$\n",
      "Y: 9720$#\n",
      "O: 9909$#\n",
      "\n",
      "X: 8202-3351$\n",
      "Y: 4851$#\n",
      "O: 5011$#\n",
      "\n",
      "X: 1362-3287$\n",
      "Y: -1925$\n",
      "O: -1668$\n",
      "\n",
      "Train: epoch 3\n",
      "Epoch: [3/20], step: [1/625], loss: 1.463072\n",
      "Epoch: [3/20], step: [201/625], loss: 1.451489\n",
      "Epoch: [3/20], step: [401/625], loss: 1.444556\n",
      "Epoch: [3/20], step: [601/625], loss: 1.420290\n",
      "Test: epoch 3 loss: 1.3226156\n",
      "X: 6493+551$#\n",
      "Y: 7044$#\n",
      "O: 6541$#\n",
      "\n",
      "X: 5427+7752$\n",
      "Y: 13179$\n",
      "O: 13118$\n",
      "\n",
      "X: 5066-4683$\n",
      "Y: 383$##\n",
      "O: 538$##\n",
      "\n",
      "Train: epoch 4\n",
      "Epoch: [4/20], step: [1/625], loss: 1.394005\n",
      "Epoch: [4/20], step: [201/625], loss: 1.364623\n",
      "Epoch: [4/20], step: [401/625], loss: 1.381806\n",
      "Epoch: [4/20], step: [601/625], loss: 1.326325\n",
      "Test: epoch 4 loss: 1.2782164\n",
      "X: 2063-5892$\n",
      "Y: -3829$\n",
      "O: -3700$\n",
      "\n",
      "X: 9399-8998$\n",
      "Y: 401$##\n",
      "O: 900$##\n",
      "\n",
      "X: 1337+2034$\n",
      "Y: 3371$#\n",
      "O: 3400$#\n",
      "\n",
      "Train: epoch 5\n",
      "Epoch: [5/20], step: [1/625], loss: 1.345114\n",
      "Epoch: [5/20], step: [201/625], loss: 1.331090\n",
      "Epoch: [5/20], step: [401/625], loss: 1.317163\n",
      "Epoch: [5/20], step: [601/625], loss: 1.292731\n",
      "Test: epoch 5 loss: 1.2533127\n",
      "X: 3677-1897$\n",
      "Y: 1780$#\n",
      "O: 1755$#\n",
      "\n",
      "X: 3568-1281$\n",
      "Y: 2287$#\n",
      "O: 2555$#\n",
      "\n",
      "X: 3575-5889$\n",
      "Y: -2314$\n",
      "O: -2355$\n",
      "\n",
      "Train: epoch 6\n",
      "Epoch: [6/20], step: [1/625], loss: 1.347313\n",
      "Epoch: [6/20], step: [201/625], loss: 1.254217\n",
      "Epoch: [6/20], step: [401/625], loss: 1.260355\n",
      "Epoch: [6/20], step: [601/625], loss: 1.209369\n",
      "Test: epoch 6 loss: 1.1436769\n",
      "X: 5007-3594$\n",
      "Y: 1413$#\n",
      "O: 1711$#\n",
      "\n",
      "X: 8097-92$##\n",
      "Y: 8005$#\n",
      "O: 7891$#\n",
      "\n",
      "X: 7329-1966$\n",
      "Y: 5363$#\n",
      "O: 5444$#\n",
      "\n",
      "Train: epoch 7\n",
      "Epoch: [7/20], step: [1/625], loss: 1.169010\n",
      "Epoch: [7/20], step: [201/625], loss: 1.148478\n",
      "Epoch: [7/20], step: [401/625], loss: 1.108789\n",
      "Epoch: [7/20], step: [601/625], loss: 1.122514\n",
      "Test: epoch 7 loss: 1.0521\n",
      "X: 4537+9932$\n",
      "Y: 14469$\n",
      "O: 14391$\n",
      "\n",
      "X: 8800+4280$\n",
      "Y: 13080$\n",
      "O: 13185$\n",
      "\n",
      "X: 1035+1185$\n",
      "Y: 2220$#\n",
      "O: 2185$#\n",
      "\n",
      "Train: epoch 8\n",
      "Epoch: [8/20], step: [1/625], loss: 1.069571\n",
      "Epoch: [8/20], step: [201/625], loss: 1.036681\n",
      "Epoch: [8/20], step: [401/625], loss: 1.013367\n",
      "Epoch: [8/20], step: [601/625], loss: 1.030859\n",
      "Test: epoch 8 loss: 0.9764049\n",
      "X: 7716+869$#\n",
      "Y: 8585$#\n",
      "O: 8654$#\n",
      "\n",
      "X: 5729+4548$\n",
      "Y: 10277$\n",
      "O: 10266$\n",
      "\n",
      "X: 6344+4994$\n",
      "Y: 11338$\n",
      "O: 11361$\n",
      "\n",
      "Train: epoch 9\n",
      "Epoch: [9/20], step: [1/625], loss: 0.990730\n",
      "Epoch: [9/20], step: [201/625], loss: 0.952898\n",
      "Epoch: [9/20], step: [401/625], loss: 1.012025\n",
      "Epoch: [9/20], step: [601/625], loss: 0.964205\n",
      "Test: epoch 9 loss: 0.9218034\n",
      "X: 446+9882$#\n",
      "Y: 10328$\n",
      "O: 10336$\n",
      "\n",
      "X: 6914+3645$\n",
      "Y: 10559$\n",
      "O: 10568$\n",
      "\n",
      "X: 2842-7552$\n",
      "Y: -4710$\n",
      "O: -4760$\n",
      "\n",
      "Train: epoch 10\n",
      "Epoch: [10/20], step: [1/625], loss: 0.940781\n",
      "Epoch: [10/20], step: [201/625], loss: 0.958928\n",
      "Epoch: [10/20], step: [401/625], loss: 0.956023\n",
      "Epoch: [10/20], step: [601/625], loss: 0.959336\n",
      "Test: epoch 10 loss: 0.88184404\n",
      "X: 1189+4177$\n",
      "Y: 5366$#\n",
      "O: 5399$#\n",
      "\n",
      "X: 1015-7966$\n",
      "Y: -6951$\n",
      "O: -6939$\n",
      "\n",
      "X: 8073-4356$\n",
      "Y: 3717$#\n",
      "O: 3721$#\n",
      "\n",
      "Train: epoch 11\n",
      "Epoch: [11/20], step: [1/625], loss: 0.951183\n",
      "Epoch: [11/20], step: [201/625], loss: 0.935691\n",
      "Epoch: [11/20], step: [401/625], loss: 0.912476\n",
      "Epoch: [11/20], step: [601/625], loss: 0.897827\n",
      "Test: epoch 11 loss: 0.893902\n",
      "X: 9299-1618$\n",
      "Y: 7681$#\n",
      "O: 7687$#\n",
      "\n",
      "X: 3091+4807$\n",
      "Y: 7898$#\n",
      "O: 8888$#\n",
      "\n",
      "X: 1669-4157$\n",
      "Y: -2488$\n",
      "O: -2511$\n",
      "\n",
      "Train: epoch 12\n",
      "Epoch: [12/20], step: [1/625], loss: 0.871704\n",
      "Epoch: [12/20], step: [201/625], loss: 0.905031\n",
      "Epoch: [12/20], step: [401/625], loss: 0.888879\n",
      "Epoch: [12/20], step: [601/625], loss: 0.877146\n",
      "Test: epoch 12 loss: 0.8593605\n",
      "X: 9159-227$#\n",
      "Y: 8932$#\n",
      "O: 8933$#\n",
      "\n",
      "X: 764-7439$#\n",
      "Y: -6675$\n",
      "O: -6683$\n",
      "\n",
      "X: 5190-9885$\n",
      "Y: -4695$\n",
      "O: -4705$\n",
      "\n",
      "Train: epoch 13\n",
      "Epoch: [13/20], step: [1/625], loss: 0.880619\n",
      "Epoch: [13/20], step: [201/625], loss: 0.869738\n",
      "Epoch: [13/20], step: [401/625], loss: 0.884994\n",
      "Epoch: [13/20], step: [601/625], loss: 0.926236\n",
      "Test: epoch 13 loss: 0.85240245\n",
      "X: 5774-6313$\n",
      "Y: -539$#\n",
      "O: -532$#\n",
      "\n",
      "X: 1713-9831$\n",
      "Y: -8118$\n",
      "O: -8162$\n",
      "\n",
      "X: 4357+5393$\n",
      "Y: 9750$#\n",
      "O: 9744$#\n",
      "\n",
      "Train: epoch 14\n",
      "Epoch: [14/20], step: [1/625], loss: 0.937162\n",
      "Epoch: [14/20], step: [201/625], loss: 0.923616\n",
      "Epoch: [14/20], step: [401/625], loss: 0.834282\n",
      "Epoch: [14/20], step: [601/625], loss: 0.867143\n",
      "Test: epoch 14 loss: 0.84173167\n",
      "X: 8607-4817$\n",
      "Y: 3790$#\n",
      "O: 3807$#\n",
      "\n",
      "X: 2338+1121$\n",
      "Y: 3459$#\n",
      "O: 3497$#\n",
      "\n",
      "X: 6741-2729$\n",
      "Y: 4012$#\n",
      "O: 4003$#\n",
      "\n",
      "Train: epoch 15\n",
      "Epoch: [15/20], step: [1/625], loss: 0.873161\n",
      "Epoch: [15/20], step: [201/625], loss: 0.906048\n",
      "Epoch: [15/20], step: [401/625], loss: 0.901720\n",
      "Epoch: [15/20], step: [601/625], loss: 0.862333\n",
      "Test: epoch 15 loss: 0.83976734\n",
      "X: 8021+2166$\n",
      "Y: 10187$\n",
      "O: 10182$\n",
      "\n",
      "X: 5041+9360$\n",
      "Y: 14401$\n",
      "O: 14408$\n",
      "\n",
      "X: 2485-6249$\n",
      "Y: -3764$\n",
      "O: -3775$\n",
      "\n",
      "Train: epoch 16\n",
      "Epoch: [16/20], step: [1/625], loss: 0.836857\n",
      "Epoch: [16/20], step: [201/625], loss: 0.830864\n",
      "Epoch: [16/20], step: [401/625], loss: 0.838768\n",
      "Epoch: [16/20], step: [601/625], loss: 0.859064\n",
      "Test: epoch 16 loss: 0.82535255\n",
      "X: 4646-2882$\n",
      "Y: 1764$#\n",
      "O: 1762$#\n",
      "\n",
      "X: 3376-427$#\n",
      "Y: 2949$#\n",
      "O: 2959$#\n",
      "\n",
      "X: 2518-6263$\n",
      "Y: -3745$\n",
      "O: -3755$\n",
      "\n",
      "Train: epoch 17\n",
      "Epoch: [17/20], step: [1/625], loss: 0.796741\n",
      "Epoch: [17/20], step: [201/625], loss: 0.824462\n",
      "Epoch: [17/20], step: [401/625], loss: 0.855373\n",
      "Epoch: [17/20], step: [601/625], loss: 0.827938\n",
      "Test: epoch 17 loss: 0.82798076\n",
      "X: 8270+5050$\n",
      "Y: 13320$\n",
      "O: 13348$\n",
      "\n",
      "X: 2460+5020$\n",
      "Y: 7480$#\n",
      "O: 7458$#\n",
      "\n",
      "X: 2927+6656$\n",
      "Y: 9583$#\n",
      "O: 9600$#\n",
      "\n",
      "Train: epoch 18\n",
      "Epoch: [18/20], step: [1/625], loss: 0.825856\n",
      "Epoch: [18/20], step: [201/625], loss: 0.817185\n",
      "Epoch: [18/20], step: [401/625], loss: 0.794374\n",
      "Epoch: [18/20], step: [601/625], loss: 0.813025\n",
      "Test: epoch 18 loss: 0.8006893\n",
      "X: 6510+9948$\n",
      "Y: 16458$\n",
      "O: 16456$\n",
      "\n",
      "X: 2861-5473$\n",
      "Y: -2612$\n",
      "O: -2602$\n",
      "\n",
      "X: 9299-5127$\n",
      "Y: 4172$#\n",
      "O: 4193$#\n",
      "\n",
      "Train: epoch 19\n",
      "Epoch: [19/20], step: [1/625], loss: 0.803512\n",
      "Epoch: [19/20], step: [201/625], loss: 0.762937\n",
      "Epoch: [19/20], step: [401/625], loss: 0.790101\n",
      "Epoch: [19/20], step: [601/625], loss: 0.848854\n",
      "Test: epoch 19 loss: 0.7817234\n",
      "X: 6108-5953$\n",
      "Y: 155$##\n",
      "O: 176$##\n",
      "\n",
      "X: 6511-3147$\n",
      "Y: 3364$#\n",
      "O: 3388$#\n",
      "\n",
      "X: 9611+4372$\n",
      "Y: 13983$\n",
      "O: 13988$\n",
      "\n",
      "Train: epoch 20\n",
      "Epoch: [20/20], step: [1/625], loss: 0.829922\n",
      "Epoch: [20/20], step: [201/625], loss: 0.819633\n",
      "Epoch: [20/20], step: [401/625], loss: 0.795941\n",
      "Epoch: [20/20], step: [601/625], loss: 0.779456\n",
      "Test: epoch 20 loss: 0.78804153\n",
      "X: 459-2563$#\n",
      "Y: -2104$\n",
      "O: -2097$\n",
      "\n",
      "X: 6077-8728$\n",
      "Y: -2651$\n",
      "O: -2652$\n",
      "\n",
      "X: 759-7307$#\n",
      "Y: -6548$\n",
      "O: -6543$\n",
      "\n",
      "\n",
      "...training finished.\n"
     ]
    }
   ],
   "source": [
    "session = tf.Session()\n",
    "session.run(tf.global_variables_initializer())\n",
    "            \n",
    "invalid_number_prediction_counts = []\n",
    "all_model_predictions = []\n",
    "all_ground_truth = []\n",
    "\n",
    "print('Start training... \\n')\n",
    "for epoch in range(n_epochs):  \n",
    "    random.shuffle(train_set)\n",
    "    random.shuffle(test_set)\n",
    "    \n",
    "    print('Train: epoch', epoch + 1)\n",
    "    for n_iter, (X_batch, Y_batch) in enumerate(generate_batches(train_set, batch_size=batch_size)):\n",
    "        ######################################\n",
    "        ######### YOUR CODE HERE #############\n",
    "        ######################################\n",
    "        # prepare the data (X_batch and Y_batch) for training\n",
    "        # using function batch_to_ids\n",
    "        X, X_seq_len = batch_to_ids(X_batch, word2id, max_len)\n",
    "        Y, Y_seq_len = batch_to_ids(Y_batch, word2id, max_len)\n",
    "        predictions, loss = model.train_on_batch(session, X, X_seq_len, Y, Y_seq_len, learning_rate, dropout_keep_probability)\n",
    "        \n",
    "        if n_iter % 200 == 0:\n",
    "            print(\"Epoch: [%d/%d], step: [%d/%d], loss: %f\" % (epoch + 1, n_epochs, n_iter + 1, n_step, loss))\n",
    "                \n",
    "    X_sent, Y_sent = next(generate_batches(test_set, batch_size=batch_size))\n",
    "    ######################################\n",
    "    ######### YOUR CODE HERE #############\n",
    "    ######################################\n",
    "    # prepare test data (X_sent and Y_sent) for predicting \n",
    "    # quality and computing value of the loss function\n",
    "    # using function batch_to_ids\n",
    "    X, X_seq_len = batch_to_ids(X_sent, word2id, max_len)\n",
    "    Y, Y_seq_len = batch_to_ids(Y_sent, word2id, max_len)\n",
    "    \n",
    "    predictions, loss = model.predict_for_batch_with_loss(session, X, X_seq_len, Y, Y_seq_len)\n",
    "    print('Test: epoch', epoch + 1, 'loss:', loss,)\n",
    "    for x, y, p  in list(zip(X, Y, predictions))[:3]:\n",
    "        print('X:',''.join(ids_to_sentence(x, id2word)))\n",
    "        print('Y:',''.join(ids_to_sentence(y, id2word)))\n",
    "        print('O:',''.join(ids_to_sentence(p, id2word)))\n",
    "        print('')\n",
    "\n",
    "    model_predictions = []\n",
    "    ground_truth = []\n",
    "    invalid_number_prediction_count = 0\n",
    "    # For the whole test set calculate ground-truth values (as integer numbers)\n",
    "    # and prediction values (also as integers) to calculate metrics.\n",
    "    # If generated by model number is not correct (e.g. '1-1'), \n",
    "    # increase invalid_number_prediction_count and don't append this and corresponding\n",
    "    # ground-truth value to the arrays.\n",
    "    for X_batch, Y_batch in generate_batches(test_set, batch_size=batch_size):\n",
    "        ######################################\n",
    "        ######### YOUR CODE HERE #############\n",
    "        ######################################\n",
    "        X, X_seq_len = batch_to_ids(X_batch, word2id, max_len)\n",
    "        Y, Y_seq_len = batch_to_ids(Y_batch, word2id, max_len)\n",
    "        Y_pred = model.predict_for_batch(session, X, X_seq_len)\n",
    "        \n",
    "        ## TODO: CORRIGIR!!!\n",
    "        for i in range(len(X_batch)):\n",
    "            y_pred_str = ''.join(ids_to_sentence(Y_pred[i], id2word))\n",
    "            y_pred_str = y_pred_str[0:y_pred_str.index('$')]\n",
    "            y_true_str = ''.join(ids_to_sentence(Y[i], id2word))\n",
    "            y_true_str = y_true_str[0:y_true_str.index('$')]\n",
    "            try:\n",
    "                y_pred = int(y_pred_str)\n",
    "                y_true = int(y_true_str)\n",
    "                model_predictions.append(y_pred)\n",
    "                ground_truth.append(y_true)\n",
    "            except:\n",
    "                invalid_number_prediction_count += invalid_number_prediction_count\n",
    "            \n",
    "    all_model_predictions.append(model_predictions)\n",
    "    all_ground_truth.append(ground_truth)\n",
    "    invalid_number_prediction_counts.append(invalid_number_prediction_count)\n",
    "            \n",
    "print('\\n...training finished.')"
   ]
  },
  {
   "cell_type": "markdown",
   "metadata": {},
   "source": [
    "## Evaluate results\n",
    "\n",
    "Because our task is simple and the output is straight-forward, we will use [MAE](https://en.wikipedia.org/wiki/Mean_absolute_error) metric to evaluate the trained model during the epochs. Compute the value of the metric for the output from each epoch."
   ]
  },
  {
   "cell_type": "code",
   "execution_count": 73,
   "metadata": {},
   "outputs": [],
   "source": [
    "from sklearn.metrics import mean_absolute_error"
   ]
  },
  {
   "cell_type": "code",
   "execution_count": 74,
   "metadata": {},
   "outputs": [
    {
     "name": "stdout",
     "output_type": "stream",
     "text": [
      "Epoch: 1, MAE: 750.811800, Invalid numbers: 0\n",
      "Epoch: 2, MAE: 324.206900, Invalid numbers: 0\n",
      "Epoch: 3, MAE: 238.904850, Invalid numbers: 0\n",
      "Epoch: 4, MAE: 158.492400, Invalid numbers: 0\n",
      "Epoch: 5, MAE: 152.949600, Invalid numbers: 0\n",
      "Epoch: 6, MAE: 99.366250, Invalid numbers: 0\n",
      "Epoch: 7, MAE: 50.433550, Invalid numbers: 0\n",
      "Epoch: 8, MAE: 47.038250, Invalid numbers: 0\n",
      "Epoch: 9, MAE: 34.585350, Invalid numbers: 0\n",
      "Epoch: 10, MAE: 29.852300, Invalid numbers: 0\n",
      "Epoch: 11, MAE: 38.980550, Invalid numbers: 0\n",
      "Epoch: 12, MAE: 27.348200, Invalid numbers: 0\n",
      "Epoch: 13, MAE: 21.480550, Invalid numbers: 0\n",
      "Epoch: 14, MAE: 23.868800, Invalid numbers: 0\n",
      "Epoch: 15, MAE: 24.812800, Invalid numbers: 0\n",
      "Epoch: 16, MAE: 19.140350, Invalid numbers: 0\n",
      "Epoch: 17, MAE: 19.566800, Invalid numbers: 0\n",
      "Epoch: 18, MAE: 20.948750, Invalid numbers: 0\n",
      "Epoch: 19, MAE: 20.837400, Invalid numbers: 0\n",
      "Epoch: 20, MAE: 20.414200, Invalid numbers: 0\n"
     ]
    }
   ],
   "source": [
    "for i, (gts, predictions, invalid_number_prediction_count) in enumerate(zip(all_ground_truth,\n",
    "                                                                            all_model_predictions,\n",
    "                                                                            invalid_number_prediction_counts), 1):\n",
    "    mae = mean_absolute_error(gts, predictions)\n",
    "    print(\"Epoch: %i, MAE: %f, Invalid numbers: %i\" % (i, mae, invalid_number_prediction_count))"
   ]
  },
  {
   "cell_type": "code",
   "execution_count": null,
   "metadata": {},
   "outputs": [],
   "source": []
  },
  {
   "cell_type": "code",
   "execution_count": null,
   "metadata": {},
   "outputs": [],
   "source": []
  }
 ],
 "metadata": {
  "kernelspec": {
   "display_name": "Python 3",
   "language": "python",
   "name": "python3"
  },
  "language_info": {
   "codemirror_mode": {
    "name": "ipython",
    "version": 3
   },
   "file_extension": ".py",
   "mimetype": "text/x-python",
   "name": "python",
   "nbconvert_exporter": "python",
   "pygments_lexer": "ipython3",
   "version": "3.7.3"
  }
 },
 "nbformat": 4,
 "nbformat_minor": 2
}
